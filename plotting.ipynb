{
 "metadata": {
  "name": "",
  "signature": "sha256:90bffc92942073747498c2d33fce50722eb632eb8e2e7f97f240b373e2773db5"
 },
 "nbformat": 3,
 "nbformat_minor": 0,
 "worksheets": [
  {
   "cells": [
    {
     "cell_type": "code",
     "collapsed": false,
     "input": [
      "import warnings\n",
      "warnings.filterwarnings(\"ignore\")"
     ],
     "language": "python",
     "metadata": {},
     "outputs": []
    },
    {
     "cell_type": "code",
     "collapsed": false,
     "input": [
      "import networkx as nx\n",
      "import matplotlib.pyplot as plt\n",
      "\n",
      "def draw_network(nodes,edges):\n",
      "    \"\"\"produce basic layout and vis of network defined as node and edge list\"\"\"\n",
      "    plt.figure(figsize=(12,10))\n",
      "    \n",
      "    graph = nx.Graph()\n",
      "\n",
      "    graph.add_nodes_from(nodes)\n",
      "\n",
      "    graph.add_edges_from(edges)\n",
      "    \n",
      "    pos = {\n",
      "                1:  (28.4712,-19.1858),\n",
      "                2:  (13.2284,-27.9545),\n",
      "                3:  (41.4925,-27.1834),\n",
      "                4:  (27.5834,-32.1906),\n",
      "                5:  (9.67900,-39.0835),\n",
      "                6:  (25.5118,-41.0071),\n",
      "                7:  (37.1550,-38.0191),\n",
      "                8:  (45.8389,-43.1874),\n",
      "                9:  (7.16350,-49.5315),\n",
      "                10: (19.0751,-48.8547),\n",
      "                11: (35.2089,-48.8547),\n",
      "                12: (27.5834,-58.0236),\n",
      "             }\n",
      "    \n",
      "    nx.draw(graph,pos=pos, node_size=2000, font_size=25, width=3.0, node_color='w')"
     ],
     "language": "python",
     "metadata": {},
     "outputs": []
    },
    {
     "cell_type": "code",
     "collapsed": false,
     "input": [
      "import matplotlib.pyplot as plt\n",
      "import numpy as np\n",
      "\n",
      "def plot_histogram(data,title='',x_label='value',y_label='frequency',axis=None):\n",
      "    \"\"\"produce histogram plot of data, with integer bins\"\"\"\n",
      "    min_val = 0 #min(data)\n",
      "    max_val = max(data)\n",
      "    \n",
      "    if not axis:\n",
      "        axis = plt.figure(figsize=(15,7)).add_subplot(1,1,1)\n",
      "    \n",
      "    if max_val < 30:\n",
      "        bins = np.arange(min_val-0.5,max_val+0.51,1.0)\n",
      "        axis.hist(data,bins=bins,alpha=0.5)\n",
      "    else:\n",
      "        axis.hist(data,alpha=0.5)\n",
      "    \n",
      "    axis.set_title(title)\n",
      "    axis.set_xlabel(x_label)\n",
      "    axis.set_ylabel(y_label)\n",
      "\n",
      "    axis.set_xlim( (0,max_val+1) )\n",
      "    \n",
      "    plt.draw()\n"
     ],
     "language": "python",
     "metadata": {},
     "outputs": [
      {
       "metadata": {},
       "output_type": "display_data",
       "png": "[encoded data removed]",
       "text": [
        "<matplotlib.figure.Figure at 0x1061abcd0>"
       ]
      }
     ],
     "prompt_number": 9
    }
   ],
   "metadata": {}
  }
 ]
}