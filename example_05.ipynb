{
 "metadata": {
  "name": "",
  "signature": "sha256:5fe7d5b3e0fcfff7f6e720a3db08c2eb3a79f072d2d7c912825b57c46b79f98c"
 },
 "nbformat": 3,
 "nbformat_minor": 0,
 "worksheets": [
  {
   "cells": [
    {
     "cell_type": "code",
     "collapsed": false,
     "input": [
      "from IPython.display import display, clear_output \n",
      "\n",
      "from random import random, shuffle\n",
      "from numpy import ceil as ceiling\n",
      "\n",
      "from plotting import *\n",
      "import matplotlib.pyplot as plot\n",
      "\n",
      "import networkx as nx\n",
      "import time as time_lib\n",
      "#import nrcf.visualise as vis\n",
      "\n",
      "beta = 0.1\n",
      "\n",
      "number_of_iterations =200\n",
      "\n",
      "start_time = time_lib.time()\n",
      "\n",
      "# create figure for plotting results\n",
      "figure = plot.figure(figsize=(15,4))\n",
      "axes = [figure.add_subplot(1,3,1),figure.add_subplot(1,3,2),figure.add_subplot(1,3,3)]\n",
      "\n",
      "for (count,strategy) in enumerate(['none','uniform','high_degree']):\n",
      "    \n",
      "    num_infected = []\n",
      "    \n",
      "    for i in range(number_of_iterations):\n",
      "        clear_output(wait=True)\n",
      "        print \"Simulating strategy : %s\\n\"%strategy,'repeat',i+1,'/',number_of_iterations\n",
      "    \n",
      "        network = nx.read_gml('networks/200_node_network.gml')\n",
      "    \n",
      "        susceptible = set( network.nodes() )\n",
      "        infected    = set( )\n",
      "        \n",
      "        # ========================\n",
      "        # = vaccinate some nodes =\n",
      "        # ========================\n",
      "        proportion = 0.1\n",
      "        selection_candidates = []\n",
      "        if strategy=='uniform':\n",
      "            selection_candidates = network.nodes()\n",
      "            shuffle(selection_candidates)\n",
      "        elif strategy=='high_degree':\n",
      "            for node in network.nodes():\n",
      "                selection_candidates += [node]*network.degree(node)\n",
      "            shuffle(selection_candidates)\n",
      "        if selection_candidates:\n",
      "            selections = set()\n",
      "            while len(selections) < (proportion * len(network.nodes())):\n",
      "                selections.add(selection_candidates.pop())\n",
      "            for node in selections:\n",
      "                network.remove_edges_from([edge for edge in network.edges() if node in edge])\n",
      "    \n",
      "        # =======================================\n",
      "        # = we begin by infecting a single node =\n",
      "        # =======================================\n",
      "        # we pick the node\n",
      "        start_node =  int(ceiling( random() * len(network.nodes()) ) - 1)\n",
      "        # remove this node over to the list of infected nodes\n",
      "        susceptible.remove( start_node )\n",
      "        # add this node to the list of infected nodes\n",
      "        infected.add( start_node )\n",
      "\n",
      "        # =================================================\n",
      "        # = now we run the simulation for 20 'time' steps =\n",
      "        # =================================================\n",
      "        time = 1\n",
      "        while time <= 20:\n",
      "\n",
      "            new_infections = set()\n",
      "\n",
      "            # in each time step we look at each susceptible node\n",
      "            for node in susceptible:\n",
      "\n",
      "                # count number of infectious contacts\n",
      "                k = 0.0\n",
      "                # for each of the edges in our network\n",
      "                for edge in network.edges():\n",
      "                    # we check whether this edge refers to the node we're interested in\n",
      "                    if node in edge:\n",
      "                        # we check whether the other node is infected\n",
      "                        if set(edge).intersection(infected):\n",
      "                            # if it is, we count it\n",
      "                            k = k + 1\n",
      "\n",
      "                # we use the formula we worked out earlier to calculate the probability of infection\n",
      "                prob_infection = 1.0 - (1.0-beta)**k\n",
      "\n",
      "                # we get a random number between 0 and 1\n",
      "                # if it is SMALLER than our probability, we list our node as a new infection\n",
      "                if random() < prob_infection:\n",
      "                    new_infections.add( node )\n",
      "\n",
      "            # once we've finished going through all the nodes, we update out 'master' lists\n",
      "            # of susceptible and infected nodes\n",
      "            for node in new_infections:\n",
      "                susceptible.remove( node )\n",
      "\n",
      "                infected.add( node )\n",
      "\n",
      "            # finally, we update the time, adding one to it\n",
      "            time = time + 1\n",
      "    \n",
      "        # store metrics of new infections at each step\n",
      "        num_infected.append(len(infected))\n",
      "\n",
      "    plot_histogram(num_infected,title='Vaccination strategy = %s'%strategy,x_label='number of infections',y_label='frequency',axis=axes[count])\n",
      "\n",
      "y_max = max([axis.get_ylim()[1] for axis in axes])\n",
      "for axis in axes:\n",
      "    axis.set_ylim((0,y_max))\n",
      "\n",
      "plt.show()\n",
      "\n",
      "print \"\\n\\nTotal run time of %6.1f minutes.\"%round((time_lib.time()-start_time) / 60)\n"
     ],
     "language": "python",
     "metadata": {},
     "outputs": [
      {
       "output_type": "stream",
       "stream": "stdout",
       "text": [
        "Simulating strategy : high_degree\n",
        "repeat 200 / 200\n"
       ]
      },
      {
       "metadata": {},
       "output_type": "display_data",
       "png": "[encoded data removed]",
       "text": [
        "<matplotlib.figure.Figure at 0x86699e8>"
       ]
      },
      {
       "output_type": "stream",
       "stream": "stdout",
       "text": [
        "\n",
        "\n",
        "Total run time of   16.0 minutes.\n"
       ]
      }
     ],
     "prompt_number": 1
    },
    {
     "cell_type": "markdown",
     "metadata": {},
     "source": [
      "##### [Here's one I made earlier...](_heres_one_i_made_earlier/heres_one_i_made_earlier.png) "
     ]
    }
   ],
   "metadata": {}
  }
 ]
}