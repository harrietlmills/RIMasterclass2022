{
 "metadata": {
  "name": "",
  "signature": "sha256:af9bfc156a327a0dc44bc18c29f7e8e32c1ff6c428452f4d85ab4ccdf8434b60"
 },
 "nbformat": 3,
 "nbformat_minor": 0,
 "worksheets": [
  {
   "cells": [
    {
     "cell_type": "code",
     "collapsed": false,
     "input": [
      "# these are some useful bits of code for later (don't worry about the details)\n",
      "from random import choice\n",
      "from numpy import ceil as ceiling"
     ],
     "language": "python",
     "metadata": {},
     "outputs": [],
     "prompt_number": 2
    },
    {
     "cell_type": "markdown",
     "metadata": {},
     "source": [
      "## We set up the network...\n",
      "#### First is the list of nodes..."
     ]
    },
    {
     "cell_type": "code",
     "collapsed": false,
     "input": [
      "nodes = [1, 2, 3, 4, 5, 6, 7, 8, 9, 10, 11, 12]"
     ],
     "language": "python",
     "metadata": {},
     "outputs": [],
     "prompt_number": 1
    },
    {
     "cell_type": "markdown",
     "metadata": {},
     "source": [
      "#### We define the network by a list of all the connections..."
     ]
    },
    {
     "cell_type": "code",
     "collapsed": false,
     "input": [
      "edges = [   \n",
      "            (1,2),\n",
      "            (1,3),\n",
      "            (2,3),\n",
      "            (3,8),\n",
      "            (2,6),\n",
      "            (4,6),\n",
      "            (5,6),\n",
      "            (6,7),\n",
      "            (6,9),\n",
      "            (6,10),\n",
      "            (6,11),\n",
      "            (6,12),\n",
      "            (7,8),\n",
      "            (8,11),\n",
      "            (9,12),\n",
      "            (10,12),\n",
      "            (11,12),\n",
      "        ]"
     ],
     "language": "python",
     "metadata": {},
     "outputs": [],
     "prompt_number": 3
    },
    {
     "cell_type": "markdown",
     "metadata": {},
     "source": [
      "#### We store lists of susceptible and infected nodes"
     ]
    },
    {
     "cell_type": "code",
     "collapsed": false,
     "input": [
      "susceptible = set( nodes )\n",
      "infected    = set( )"
     ],
     "language": "python",
     "metadata": {},
     "outputs": [],
     "prompt_number": 4
    },
    {
     "cell_type": "markdown",
     "metadata": {},
     "source": [
      "#### we begin by infecting a single node"
     ]
    },
    {
     "cell_type": "code",
     "collapsed": false,
     "input": [
      "start_node =  choice([1,2,3,4,5,6,7,8,9,10,11,12])\n",
      "\n",
      "print start_node"
     ],
     "language": "python",
     "metadata": {},
     "outputs": [
      {
       "output_type": "stream",
       "stream": "stdout",
       "text": [
        "12\n"
       ]
      }
     ],
     "prompt_number": 5
    },
    {
     "cell_type": "markdown",
     "metadata": {},
     "source": [
      "#### move this node over to the list of infected nodes"
     ]
    },
    {
     "cell_type": "code",
     "collapsed": false,
     "input": [
      "print susceptible\n",
      "\n",
      "susceptible.remove( start_node )\n",
      "\n",
      "print susceptible"
     ],
     "language": "python",
     "metadata": {},
     "outputs": [
      {
       "output_type": "stream",
       "stream": "stdout",
       "text": [
        "set([1, 2, 3, 4, 5, 6, 7, 8, 9, 10, 11, 12])\n",
        "set([1, 2, 3, 4, 5, 6, 7, 8, 9, 10, 11])\n"
       ]
      }
     ],
     "prompt_number": 6
    },
    {
     "cell_type": "markdown",
     "metadata": {},
     "source": [
      "#### add this node to the list of infected nodes"
     ]
    },
    {
     "cell_type": "code",
     "collapsed": false,
     "input": [
      "print infected\n",
      "\n",
      "infected.add( start_node )\n",
      "\n",
      "print infected"
     ],
     "language": "python",
     "metadata": {},
     "outputs": [
      {
       "output_type": "stream",
       "stream": "stdout",
       "text": [
        "set([])\n",
        "set([12])\n"
       ]
      }
     ],
     "prompt_number": 7
    },
    {
     "cell_type": "markdown",
     "metadata": {},
     "source": [
      "#### now we run the simulation for 10 'time' steps"
     ]
    },
    {
     "cell_type": "code",
     "collapsed": false,
     "input": [
      "# this is a 'for loop' - it repeats all the commands inside\n",
      "for time in [1,2,3,4,5,6,7,8,9,10]:\n",
      "    \n",
      "    new_infections = set()\n",
      "    \n",
      "    # in each time step we look at each susceptible node\n",
      "    for node in susceptible:\n",
      "    \n",
      "        # for each of the edges in our network\n",
      "        for edge in edges:\n",
      "            # we check whether this edge refers to the node we're interested in\n",
      "            if node in edge:\n",
      "                # we check whether the other node is infected\n",
      "                if edge[0] in infected or edge[1] in infected:\n",
      "                    \n",
      "                    # if it is, we roll a (virtual) dice to see if the infection was passed on\n",
      "                    if choice([1,2,3,4,5,6]) == 6:\n",
      "                        new_infections.add( node )\n",
      "    \n",
      "    # once we've finished going through all the nodes, we update our 'master' lists\n",
      "    # of susceptible and infected nodes\n",
      "    for node in new_infections:\n",
      "        \n",
      "        susceptible.remove( node )\n",
      "\n",
      "        infected.add( node )"
     ],
     "language": "python",
     "metadata": {},
     "outputs": [],
     "prompt_number": 11
    },
    {
     "cell_type": "markdown",
     "metadata": {},
     "source": [
      "#### Now the simulation has run for 10 steps, we output the total number of infected nodes"
     ]
    },
    {
     "cell_type": "code",
     "collapsed": false,
     "input": [
      "print len(infected)"
     ],
     "language": "python",
     "metadata": {},
     "outputs": [
      {
       "output_type": "stream",
       "stream": "stdout",
       "text": [
        "12\n"
       ]
      }
     ],
     "prompt_number": 12
    },
    {
     "cell_type": "markdown",
     "metadata": {},
     "source": [
      "## Putting it all together..."
     ]
    },
    {
     "cell_type": "code",
     "collapsed": false,
     "input": [
      "# we store the set of susceptible and infected nodes\n",
      "susceptible = set( nodes )\n",
      "infected    = set( )\n",
      "\n",
      "# we begin by infecting a single node\n",
      "start_node =  choice([1,2,3,4,5,6,7,8,9,10,11,12])\n",
      "\n",
      "# remove this node over to the list of infected nodes\n",
      "susceptible.remove( start_node )\n",
      "\n",
      "# add this node to the list of infected nodes\n",
      "infected.add( start_node )\n",
      "\n",
      "# now we run the simulation for 10 'time' steps\n",
      "for time in [1,2,3,4,5,6,7,8,9,10]:\n",
      "    \n",
      "    new_infections = set()\n",
      "    \n",
      "    # in each time step we look at each susceptible node\n",
      "    for node in susceptible:\n",
      "    \n",
      "        # for each of the edges in our network\n",
      "        for edge in edges:\n",
      "            # we check whether this edge refers to the node we're interested in\n",
      "            if node in edge:\n",
      "                # we check whether the other node is infected\n",
      "                if edge[0] in infected or edge[1] in infected:\n",
      "                    \n",
      "                    # if it is, we roll a (virtual) dice to see if the infection was passed on\n",
      "                    if choice([1,2,3,4,5,6]) == 6:\n",
      "                        new_infections.add( node )\n",
      "    \n",
      "    # once we've finished going through all the nodes, we update our 'master' lists\n",
      "    # of susceptible and infected nodes\n",
      "    for node in new_infections:\n",
      "        \n",
      "        susceptible.remove( node )\n",
      "\n",
      "        infected.add( node )\n",
      "\n",
      "# now the simulation has run for 20 steps, we output the total number of infected nodes\n",
      "print len(infected)"
     ],
     "language": "python",
     "metadata": {},
     "outputs": [
      {
       "output_type": "stream",
       "stream": "stdout",
       "text": [
        "6\n"
       ]
      }
     ],
     "prompt_number": 14
    }
   ],
   "metadata": {}
  }
 ]
}